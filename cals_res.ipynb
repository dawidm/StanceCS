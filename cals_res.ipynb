{
 "cells": [
  {
   "cell_type": "code",
   "execution_count": 16,
   "metadata": {
    "collapsed": true,
    "ExecuteTime": {
     "end_time": "2023-08-30T08:39:14.450732070Z",
     "start_time": "2023-08-30T08:39:14.434114541Z"
    }
   },
   "outputs": [],
   "source": [
    "import numpy as np\n",
    "\n",
    "def calc_res(file):\n",
    "    with open(file, 'r') as f:\n",
    "        lines = f.readlines()\n",
    "        macro_f1s = []\n",
    "        macro_f1_fas = []\n",
    "        for line in lines:\n",
    "            dicts_text = ' '.join(line.split()[3:])\n",
    "            res = eval(dicts_text)\n",
    "            macro_f1s.append(res['macro-f1'])\n",
    "            if 'macro-f1-fa' in res:\n",
    "                macro_f1_fas.append(res['macro-f1-fa'])\n",
    "\n",
    "    print('macro-f1: {:.4f} ({:.4f})'.format(np.mean(macro_f1s), np.std(macro_f1s)))\n",
    "    if len(macro_f1_fas) > 0:\n",
    "        print('macro-f1-fa: {:.4f} ({:.4f})'.format(np.mean(macro_f1_fas), np.std(macro_f1_fas)))"
   ]
  },
  {
   "cell_type": "code",
   "execution_count": 17,
   "outputs": [
    {
     "name": "stdout",
     "output_type": "stream",
     "text": [
      "macro-f1: 0.7146 (0.0151)\n"
     ]
    }
   ],
   "source": [
    "calc_res('output/test_results_vast_zs.txt')"
   ],
   "metadata": {
    "collapsed": false,
    "ExecuteTime": {
     "end_time": "2023-08-30T08:39:14.731655947Z",
     "start_time": "2023-08-30T08:39:14.727290191Z"
    }
   }
  },
  {
   "cell_type": "code",
   "execution_count": 9,
   "outputs": [
    {
     "name": "stdout",
     "output_type": "stream",
     "text": [
      "macro-f1: 0.3167 (0.0242)\n",
      "macro-f1-fa: 0.2141 (0.0366)\n"
     ]
    }
   ],
   "source": [
    "calc_res('output/test_results_DT.txt')"
   ],
   "metadata": {
    "collapsed": false,
    "ExecuteTime": {
     "end_time": "2023-08-30T08:10:51.923595550Z",
     "start_time": "2023-08-30T08:10:51.913750717Z"
    }
   }
  },
  {
   "cell_type": "code",
   "execution_count": 10,
   "outputs": [
    {
     "name": "stdout",
     "output_type": "stream",
     "text": [
      "macro-f1: 0.2889 (0.0722)\n",
      "macro-f1-fa: 0.2534 (0.0907)\n"
     ]
    }
   ],
   "source": [
    "calc_res('output/test_results_AT.txt')"
   ],
   "metadata": {
    "collapsed": false,
    "ExecuteTime": {
     "end_time": "2023-08-30T08:10:52.102401966Z",
     "start_time": "2023-08-30T08:10:52.058773133Z"
    }
   }
  },
  {
   "cell_type": "code",
   "execution_count": 11,
   "outputs": [
    {
     "name": "stdout",
     "output_type": "stream",
     "text": [
      "macro-f1: 0.3900 (0.0663)\n",
      "macro-f1-fa: 0.3248 (0.0734)\n"
     ]
    }
   ],
   "source": [
    "calc_res('output/test_results_HC.txt')"
   ],
   "metadata": {
    "collapsed": false,
    "ExecuteTime": {
     "end_time": "2023-08-30T08:10:52.244654748Z",
     "start_time": "2023-08-30T08:10:52.204103307Z"
    }
   }
  },
  {
   "cell_type": "code",
   "execution_count": 12,
   "outputs": [
    {
     "name": "stdout",
     "output_type": "stream",
     "text": [
      "macro-f1: 0.2431 (0.0198)\n",
      "macro-f1-fa: 0.1003 (0.0293)\n"
     ]
    }
   ],
   "source": [
    "calc_res('output/test_results_CL.txt')"
   ],
   "metadata": {
    "collapsed": false,
    "ExecuteTime": {
     "end_time": "2023-08-30T08:10:52.445936156Z",
     "start_time": "2023-08-30T08:10:52.421922052Z"
    }
   }
  },
  {
   "cell_type": "code",
   "execution_count": 13,
   "outputs": [
    {
     "name": "stdout",
     "output_type": "stream",
     "text": [
      "macro-f1: 0.4282 (0.0484)\n",
      "macro-f1-fa: 0.3958 (0.0567)\n"
     ]
    }
   ],
   "source": [
    "calc_res('output/test_results_AB.txt')"
   ],
   "metadata": {
    "collapsed": false,
    "ExecuteTime": {
     "end_time": "2023-08-30T08:10:52.769067167Z",
     "start_time": "2023-08-30T08:10:52.756479591Z"
    }
   }
  },
  {
   "cell_type": "code",
   "execution_count": 14,
   "outputs": [
    {
     "name": "stdout",
     "output_type": "stream",
     "text": [
      "macro-f1: 0.3230 (0.0427)\n",
      "macro-f1-fa: 0.2567 (0.0504)\n"
     ]
    }
   ],
   "source": [
    "calc_res('output/test_results_FE.txt')"
   ],
   "metadata": {
    "collapsed": false,
    "ExecuteTime": {
     "end_time": "2023-08-30T08:10:53.330555302Z",
     "start_time": "2023-08-30T08:10:53.322816576Z"
    }
   }
  },
  {
   "cell_type": "code",
   "execution_count": null,
   "outputs": [],
   "source": [],
   "metadata": {
    "collapsed": false
   }
  }
 ],
 "metadata": {
  "kernelspec": {
   "display_name": "Python 3",
   "language": "python",
   "name": "python3"
  },
  "language_info": {
   "codemirror_mode": {
    "name": "ipython",
    "version": 2
   },
   "file_extension": ".py",
   "mimetype": "text/x-python",
   "name": "python",
   "nbconvert_exporter": "python",
   "pygments_lexer": "ipython2",
   "version": "2.7.6"
  }
 },
 "nbformat": 4,
 "nbformat_minor": 0
}
