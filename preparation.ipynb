{
 "cells": [
  {
   "cell_type": "code",
   "execution_count": 7,
   "id": "initial_id",
   "metadata": {
    "collapsed": true,
    "ExecuteTime": {
     "end_time": "2023-08-09T15:01:10.329618866Z",
     "start_time": "2023-08-09T15:01:09.857715333Z"
    }
   },
   "outputs": [],
   "source": [
    "import os\n",
    "while not os.path.exists('data/se_train.csv'):\n",
    "    os.chdir('..')\n",
    "\n",
    "from stancedatasets import load_semeval_zeroshot_dataset\n",
    "from stancedatasets import SE_SHORT_TARGETS\n",
    "\n",
    "def prepare_stancecs_df(df):\n",
    "    df = df.rename(columns={'text': 'post', 'target': 'topic', 'class': 'label'})\n",
    "    df['label'] = df['label'].apply(lambda x: {0: 1, 1: 0, 2: 2}[x])\n",
    "    df['topic'] = df['topic'].apply(lambda x: x.split())\n",
    "    return df[['post', 'topic', 'label']]\n",
    "\n",
    "for target in SE_SHORT_TARGETS.keys():\n",
    "    df_train, df_dev, df_test = load_semeval_zeroshot_dataset(target, adapt_target_names=False, train_proportion=0.85)\n",
    "    prepare_stancecs_df(df_train).to_csv(f'stancecs-semeval-preparation/{target}_train.csv')\n",
    "    prepare_stancecs_df(df_dev).to_csv(f'stancecs-semeval-preparation/{target}_dev.csv')\n",
    "    prepare_stancecs_df(df_test).to_csv(f'stancecs-semeval-preparation/{target}_test.csv')"
   ]
  }
 ],
 "metadata": {
  "kernelspec": {
   "display_name": "Python 3",
   "language": "python",
   "name": "python3"
  },
  "language_info": {
   "codemirror_mode": {
    "name": "ipython",
    "version": 2
   },
   "file_extension": ".py",
   "mimetype": "text/x-python",
   "name": "python",
   "nbconvert_exporter": "python",
   "pygments_lexer": "ipython2",
   "version": "2.7.6"
  }
 },
 "nbformat": 4,
 "nbformat_minor": 5
}
